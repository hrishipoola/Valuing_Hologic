{
  "nbformat": 4,
  "nbformat_minor": 0,
  "metadata": {
    "colab": {
      "name": "Valuing Hologic.ipynb",
      "provenance": [],
      "collapsed_sections": [],
      "authorship_tag": "ABX9TyP8niW01LOX3ncARa8grryO",
      "include_colab_link": true
    },
    "kernelspec": {
      "name": "python3",
      "display_name": "Python 3"
    },
    "language_info": {
      "name": "python"
    }
  },
  "cells": [
    {
      "cell_type": "markdown",
      "metadata": {
        "id": "view-in-github",
        "colab_type": "text"
      },
      "source": [
        "<a href=\"https://colab.research.google.com/github/hrishipoola/Valuing_Hologic/blob/main/Valuing_Hologic.ipynb\" target=\"_parent\"><img src=\"https://colab.research.google.com/assets/colab-badge.svg\" alt=\"Open In Colab\"/></a>"
      ]
    },
    {
      "cell_type": "markdown",
      "metadata": {
        "id": "GBG80AMCpLjk"
      },
      "source": [
        "# Valuing Hologic\n"
      ]
    },
    {
      "cell_type": "markdown",
      "metadata": {
        "id": "jNJIPiu4avvx"
      },
      "source": [
        "## Table of Contents\n",
        "1. Introduction\n",
        "2. Install & Import Packages\n",
        "3. Free Cash Flow to the Firm (FCFF) Forecast\n",
        "<br> FCFF\n",
        "<br> Forecast\n",
        "4. Weighted Average Cost of Capital (WACC)\n",
        "<br> Required ROE\n",
        "<br> Required ROD\n",
        "<br> Capital Structure\n",
        "<br> Calculate WACC\n",
        "5. Valuation\n",
        "6. References\n"
      ]
    },
    {
      "cell_type": "markdown",
      "metadata": {
        "id": "vgnQOxaDpYa3"
      },
      "source": [
        "## 1. Introduction\n",
        "\n",
        "Today, we'll value [Hologic (HOLX)](https://www.hologic.com/) using a discounted cash flow model. HOLX develops, manufactures, and supplies diagnostic systems and assays, medical imaging systems, and surgical products focusing on women's health with $3.8B in sales in 2020. It also received approval for a SARS CoV-2 molecular test last year. Despite earnings headwinds in the next few years, HOLX seems undervalued with 26% revenue growth expected in 2021 and below industry-average forward P/E of 14.91, P/S of 4.23, and P/CF of about 11. While HOLX it's seen increased insider selling over the past year, it still has a healthy level of insider holdings (0.6%). Interestingly, in 2021 alone, HOLX has gone on a buying spree, announcing acquisitions of molecular diagnostics company Diagencode biopsy and localization tech company Somatex and completed its acquisition of molecular oncology test provider Biotheranostics. \n",
        "\n",
        "Let's value HOLX with a simple 2-stage cash flow model. We'll use [AlphaWave's API](https://www.alphawavedata.com/) to gather the financials and follow along [AlphaWave's valuation example](https://github.com/AlphaWaveData/Jupyter-Notebooks/blob/master/AlphaWave%20Stock%20Valuation%20using%20Free%20Cash%20Flow%20to%20the%20Firm%20example.ipynb) where they've laid out a 2-stage valuation model. We'll calculate free cash flow to the firm (FCFF), use the FCFF CAGR for the past few years to forecast FCFF for the next 5 years (stage 1), and set an expected constant growth rate in perpetuity thereafter (stage 2).\n",
        "\n",
        "We'll then discount FCFF at the weighted average cost of capital (WACC). To arrive at WACC, we'll first calculate required return on equity (ROE) using the risk-free rate (10 year Treasury yield), levered beta, and equity risk premium. We'll then calculate required required return on debt (ROD) using interest expense and total debt. Lastly we'll incorporate HOLX's capital structure (mix of equity and debt) to calculate WACC (discount rate). \n",
        "\n",
        "Finally, we'll value HOLX share price by discounting FCFF for the first five years (stage 1) and adding the present value of the terminal value at year 6 (stage 2). Using the number of outstanding shares, let's calculate the price per share from our model and compare it to the actual price. \n",
        "\n",
        "Our model price of \\$117 is significantly higher the actual price of \\$74, suggesting HOLX is significantly undervalued. We should keep in mind that the valuation is sensitive to WACC and our growth rate assumptions. Future areas to explore is to test the sensitivity of the valuation against different expected growth rates, applying analyst free cash flow forecasts for the next several years for stage 1 and using a 3-stage model with a gradual decrease in growth rate before a perpetual growth rate in stage 3. \n",
        " "
      ]
    },
    {
      "cell_type": "markdown",
      "metadata": {
        "id": "vavMDMqGpath"
      },
      "source": [
        "## 2. Install & Import Packages"
      ]
    },
    {
      "cell_type": "code",
      "metadata": {
        "id": "M9AtdCRsTOMM"
      },
      "source": [
        "import pandas as pd\n",
        "import numpy as np\n",
        "import requests\n",
        "from pandas_datareader import data as pdr\n",
        "import datetime"
      ],
      "execution_count": 2,
      "outputs": []
    },
    {
      "cell_type": "code",
      "metadata": {
        "id": "Xg9u2rUWQJ57"
      },
      "source": [
        "company_ticker = 'HOLX'"
      ],
      "execution_count": 3,
      "outputs": []
    },
    {
      "cell_type": "markdown",
      "metadata": {
        "id": "OTmnCP4FegjR"
      },
      "source": [
        "[AlphaWave Licence](https://github.com/AlphaWaveData/Jupyter-Notebooks/blob/master/LICENSE)\n",
        "\n",
        "MIT License\n",
        "\n",
        "Copyright (c) 2020 HDVI\n",
        "\n",
        "Permission is hereby granted, free of charge, to any person obtaining a copy\n",
        "of this software and associated documentation files (the \"Software\"), to deal\n",
        "in the Software without restriction, including without limitation the rights\n",
        "to use, copy, modify, merge, publish, distribute, sublicense, and/or sell\n",
        "copies of the Software, and to permit persons to whom the Software is\n",
        "furnished to do so, subject to the following conditions:\n",
        "\n",
        "The above copyright notice and this permission notice shall be included in all\n",
        "copies or substantial portions of the Software.\n",
        "\n",
        "THE SOFTWARE IS PROVIDED \"AS IS\", WITHOUT WARRANTY OF ANY KIND, EXPRESS OR\n",
        "IMPLIED, INCLUDING BUT NOT LIMITED TO THE WARRANTIES OF MERCHANTABILITY,\n",
        "FITNESS FOR A PARTICULAR PURPOSE AND NONINFRINGEMENT. IN NO EVENT SHALL THE\n",
        "AUTHORS OR COPYRIGHT HOLDERS BE LIABLE FOR ANY CLAIM, DAMAGES OR OTHER\n",
        "LIABILITY, WHETHER IN AN ACTION OF CONTRACT, TORT OR OTHERWISE, ARISING FROM,\n",
        "OUT OF OR IN CONNECTION WITH THE SOFTWARE OR THE USE OR OTHER DEALINGS IN THE\n",
        "SOFTWARE."
      ]
    },
    {
      "cell_type": "code",
      "metadata": {
        "cellView": "form",
        "id": "k9abI9jfbJZz"
      },
      "source": [
        "#@title API host and key\n",
        "#@API host and key\n",
        "financial_statements_host = \"financial-statements.p.rapidapi.com\"\n",
        "financial_statements_key = \"e1989dda89mshba802e24464b021p116831jsn330438966071\"\n",
        "\n",
        "stock_analysis_host = \"stock-analysis.p.rapidapi.com\"\n",
        "stock_analysis_key = \"e1989dda89mshba802e24464b021p116831jsn330438966071\""
      ],
      "execution_count": 4,
      "outputs": []
    },
    {
      "cell_type": "markdown",
      "metadata": {
        "id": "-FvpnYcNHli0"
      },
      "source": [
        "## 3. FCFF Forecast\n",
        "\n",
        "We'll take the CAGR of the FCFF for the past 3 years and apply it to FCFF for the next 5 years to generate the FCFF forecast (stage 1). \n",
        "\n",
        "For long term expected growth in perpetuity (stage 2), we'll use a very conservative estimate close to GDP growth"
      ]
    },
    {
      "cell_type": "markdown",
      "metadata": {
        "id": "nbVcQY9mPVpE"
      },
      "source": [
        "### FCFF\n",
        "\n",
        "There are many ways to calculate FCFF, we'll use the below from Investopedia: \n",
        "\n",
        "FCFF = CFO + (IE x (1 - TR) - CAPEX\n",
        "\n",
        "CFO: cash flow from operations\n",
        "<br>IE: interest expense\n",
        "<br>TR: tax rate\n",
        "<br>CAPEX: capital expenditure"
      ]
    },
    {
      "cell_type": "markdown",
      "metadata": {
        "id": "SggpcYK8ktjp"
      },
      "source": [
        "#### Cash Flow Statement"
      ]
    },
    {
      "cell_type": "code",
      "metadata": {
        "colab": {
          "base_uri": "https://localhost:8080/",
          "height": 395
        },
        "id": "DrRNYu7hTZbt",
        "outputId": "ecc63f9a-4e78-4c91-a74b-00427f9c05d6"
      },
      "source": [
        "url = \"https://financial-statements.p.rapidapi.com/api/v1/resources/cash-flow\"\n",
        "\n",
        "querystring = {\"ticker\": company_ticker}\n",
        "\n",
        "headers = {\n",
        "    'x-rapidapi-host': financial_statements_host,\n",
        "    'x-rapidapi-key': financial_statements_key\n",
        "    }\n",
        "\n",
        "cash_flow_response = requests.request(\"GET\", url, headers=headers, params=querystring)\n",
        "\n",
        "# Create Cash Flow Statement DataFrame\n",
        "cash_flow_df = pd.DataFrame.from_dict(cash_flow_response.json())\n",
        "cash_flow_df = cash_flow_df.drop('ttm', axis = 1)\n",
        "cash_flow_df"
      ],
      "execution_count": 5,
      "outputs": [
        {
          "output_type": "execute_result",
          "data": {
            "text/html": [
              "<div>\n",
              "<style scoped>\n",
              "    .dataframe tbody tr th:only-of-type {\n",
              "        vertical-align: middle;\n",
              "    }\n",
              "\n",
              "    .dataframe tbody tr th {\n",
              "        vertical-align: top;\n",
              "    }\n",
              "\n",
              "    .dataframe thead th {\n",
              "        text-align: right;\n",
              "    }\n",
              "</style>\n",
              "<table border=\"1\" class=\"dataframe\">\n",
              "  <thead>\n",
              "    <tr style=\"text-align: right;\">\n",
              "      <th></th>\n",
              "      <th>9/30/2017</th>\n",
              "      <th>9/30/2018</th>\n",
              "      <th>9/30/2019</th>\n",
              "      <th>9/30/2020</th>\n",
              "    </tr>\n",
              "  </thead>\n",
              "  <tbody>\n",
              "    <tr>\n",
              "      <th>Capital Expenditure</th>\n",
              "      <td>-107600</td>\n",
              "      <td>-105600</td>\n",
              "      <td>-113600</td>\n",
              "      <td>-156400</td>\n",
              "    </tr>\n",
              "    <tr>\n",
              "      <th>End Cash Position</th>\n",
              "      <td>540600</td>\n",
              "      <td>666700</td>\n",
              "      <td>601800</td>\n",
              "      <td>701000</td>\n",
              "    </tr>\n",
              "    <tr>\n",
              "      <th>Financing Cash Flow</th>\n",
              "      <td>-309200</td>\n",
              "      <td>-404800</td>\n",
              "      <td>-431500</td>\n",
              "      <td>-659900</td>\n",
              "    </tr>\n",
              "    <tr>\n",
              "      <th>Free Cash Flow</th>\n",
              "      <td>-99300</td>\n",
              "      <td>627300</td>\n",
              "      <td>535900</td>\n",
              "      <td>740200</td>\n",
              "    </tr>\n",
              "    <tr>\n",
              "      <th>Income Tax Paid Supplemental Data</th>\n",
              "      <td>867800</td>\n",
              "      <td>178200</td>\n",
              "      <td>180600</td>\n",
              "      <td>None</td>\n",
              "    </tr>\n",
              "    <tr>\n",
              "      <th>Interest Paid Supplemental Data</th>\n",
              "      <td>102400</td>\n",
              "      <td>122100</td>\n",
              "      <td>132500</td>\n",
              "      <td>None</td>\n",
              "    </tr>\n",
              "    <tr>\n",
              "      <th>Investing Cash Flow</th>\n",
              "      <td>285800</td>\n",
              "      <td>-195200</td>\n",
              "      <td>-280700</td>\n",
              "      <td>-141600</td>\n",
              "    </tr>\n",
              "    <tr>\n",
              "      <th>Issuance of Debt</th>\n",
              "      <td>393000</td>\n",
              "      <td>4034000</td>\n",
              "      <td>2023000</td>\n",
              "      <td>766000</td>\n",
              "    </tr>\n",
              "    <tr>\n",
              "      <th>Operating Cash Flow</th>\n",
              "      <td>8300</td>\n",
              "      <td>732900</td>\n",
              "      <td>649500</td>\n",
              "      <td>896600</td>\n",
              "    </tr>\n",
              "    <tr>\n",
              "      <th>Repayment of Debt</th>\n",
              "      <td>-529500</td>\n",
              "      <td>-4152300</td>\n",
              "      <td>-2280700</td>\n",
              "      <td>-797500</td>\n",
              "    </tr>\n",
              "    <tr>\n",
              "      <th>Repurchase of Capital Stock</th>\n",
              "      <td>-200100</td>\n",
              "      <td>-275800</td>\n",
              "      <td>-200100</td>\n",
              "      <td>-653600</td>\n",
              "    </tr>\n",
              "  </tbody>\n",
              "</table>\n",
              "</div>"
            ],
            "text/plain": [
              "                                  9/30/2017 9/30/2018 9/30/2019 9/30/2020\n",
              "Capital Expenditure                 -107600   -105600   -113600   -156400\n",
              "End Cash Position                    540600    666700    601800    701000\n",
              "Financing Cash Flow                 -309200   -404800   -431500   -659900\n",
              "Free Cash Flow                       -99300    627300    535900    740200\n",
              "Income Tax Paid Supplemental Data    867800    178200    180600      None\n",
              "Interest Paid Supplemental Data      102400    122100    132500      None\n",
              "Investing Cash Flow                  285800   -195200   -280700   -141600\n",
              "Issuance of Debt                     393000   4034000   2023000    766000\n",
              "Operating Cash Flow                    8300    732900    649500    896600\n",
              "Repayment of Debt                   -529500  -4152300  -2280700   -797500\n",
              "Repurchase of Capital Stock         -200100   -275800   -200100   -653600"
            ]
          },
          "metadata": {
            "tags": []
          },
          "execution_count": 5
        }
      ]
    },
    {
      "cell_type": "markdown",
      "metadata": {
        "id": "TSLrNUdeO_Mq"
      },
      "source": [
        "#### Income Statement"
      ]
    },
    {
      "cell_type": "code",
      "metadata": {
        "colab": {
          "base_uri": "https://localhost:8080/",
          "height": 959
        },
        "id": "SDccxoH8k5ap",
        "outputId": "9198d9e5-0bf3-4cad-de62-62d29fcce58a"
      },
      "source": [
        "url = \"https://financial-statements.p.rapidapi.com/api/v1/resources/income-statement\"\n",
        "\n",
        "querystring = {\"ticker\": company_ticker}\n",
        "\n",
        "headers = {\n",
        "    'x-rapidapi-host': financial_statements_host,\n",
        "    'x-rapidapi-key': financial_statements_key\n",
        "    }\n",
        "\n",
        "income_statement_response = requests.request(\"GET\", url, headers=headers, params=querystring)\n",
        "\n",
        "# Create Income Statement DataFrame\n",
        "income_statement_df = pd.DataFrame.from_dict(income_statement_response.json())\n",
        "income_statement_df = income_statement_df.drop('ttm', axis = 1)\n",
        "income_statement_df"
      ],
      "execution_count": 6,
      "outputs": [
        {
          "output_type": "execute_result",
          "data": {
            "text/html": [
              "<div>\n",
              "<style scoped>\n",
              "    .dataframe tbody tr th:only-of-type {\n",
              "        vertical-align: middle;\n",
              "    }\n",
              "\n",
              "    .dataframe tbody tr th {\n",
              "        vertical-align: top;\n",
              "    }\n",
              "\n",
              "    .dataframe thead th {\n",
              "        text-align: right;\n",
              "    }\n",
              "</style>\n",
              "<table border=\"1\" class=\"dataframe\">\n",
              "  <thead>\n",
              "    <tr style=\"text-align: right;\">\n",
              "      <th></th>\n",
              "      <th>9/30/2017</th>\n",
              "      <th>9/30/2018</th>\n",
              "      <th>9/30/2019</th>\n",
              "      <th>9/30/2020</th>\n",
              "    </tr>\n",
              "  </thead>\n",
              "  <tbody>\n",
              "    <tr>\n",
              "      <th>Basic Average Shares</th>\n",
              "      <td>279811</td>\n",
              "      <td>275105</td>\n",
              "      <td>269413</td>\n",
              "      <td>262727</td>\n",
              "    </tr>\n",
              "    <tr>\n",
              "      <th>Cost of Revenue</th>\n",
              "      <td>1437800</td>\n",
              "      <td>1521200</td>\n",
              "      <td>2196400</td>\n",
              "      <td>1548900</td>\n",
              "    </tr>\n",
              "    <tr>\n",
              "      <th>Diluted Average Shares</th>\n",
              "      <td>285653</td>\n",
              "      <td>275105</td>\n",
              "      <td>269413</td>\n",
              "      <td>264613</td>\n",
              "    </tr>\n",
              "    <tr>\n",
              "      <th>Diluted NI Available to Com Stockholders</th>\n",
              "      <td>755500</td>\n",
              "      <td>-111300</td>\n",
              "      <td>-203600</td>\n",
              "      <td>1115200</td>\n",
              "    </tr>\n",
              "    <tr>\n",
              "      <th>EBIT</th>\n",
              "      <td>1383700</td>\n",
              "      <td>-269900</td>\n",
              "      <td>-116900</td>\n",
              "      <td>1118400</td>\n",
              "    </tr>\n",
              "    <tr>\n",
              "      <th>Gross Profit</th>\n",
              "      <td>1621000</td>\n",
              "      <td>1696700</td>\n",
              "      <td>1170900</td>\n",
              "      <td>2227500</td>\n",
              "    </tr>\n",
              "    <tr>\n",
              "      <th>Interest Expense</th>\n",
              "      <td>153200</td>\n",
              "      <td>148700</td>\n",
              "      <td>140800</td>\n",
              "      <td>116500</td>\n",
              "    </tr>\n",
              "    <tr>\n",
              "      <th>Interest Income</th>\n",
              "      <td>3800</td>\n",
              "      <td>6300</td>\n",
              "      <td>4600</td>\n",
              "      <td>4300</td>\n",
              "    </tr>\n",
              "    <tr>\n",
              "      <th>Net Income Common Stockholders</th>\n",
              "      <td>755500</td>\n",
              "      <td>-111300</td>\n",
              "      <td>-203600</td>\n",
              "      <td>1115200</td>\n",
              "    </tr>\n",
              "    <tr>\n",
              "      <th>Net Income from Continuing &amp; Discontinued Operation</th>\n",
              "      <td>755500</td>\n",
              "      <td>-111300</td>\n",
              "      <td>-203600</td>\n",
              "      <td>1115200</td>\n",
              "    </tr>\n",
              "    <tr>\n",
              "      <th>Net Income from Continuing Operation Net Minority Interest</th>\n",
              "      <td>755500</td>\n",
              "      <td>-111300</td>\n",
              "      <td>-203600</td>\n",
              "      <td>1115200</td>\n",
              "    </tr>\n",
              "    <tr>\n",
              "      <th>Net Interest Income</th>\n",
              "      <td>-149400</td>\n",
              "      <td>-142400</td>\n",
              "      <td>-136200</td>\n",
              "      <td>-112200</td>\n",
              "    </tr>\n",
              "    <tr>\n",
              "      <th>Net Non Operating Interest Income Expense</th>\n",
              "      <td>-149400</td>\n",
              "      <td>-142400</td>\n",
              "      <td>-136200</td>\n",
              "      <td>-112200</td>\n",
              "    </tr>\n",
              "    <tr>\n",
              "      <th>Normalized EBITDA</th>\n",
              "      <td>949700</td>\n",
              "      <td>1002200</td>\n",
              "      <td>460300</td>\n",
              "      <td>1514100</td>\n",
              "    </tr>\n",
              "    <tr>\n",
              "      <th>Normalized Income</th>\n",
              "      <td>213215</td>\n",
              "      <td>466714</td>\n",
              "      <td>-113461</td>\n",
              "      <td>1129581</td>\n",
              "    </tr>\n",
              "    <tr>\n",
              "      <th>Operating Expense</th>\n",
              "      <td>1137200</td>\n",
              "      <td>1188700</td>\n",
              "      <td>1181400</td>\n",
              "      <td>1102800</td>\n",
              "    </tr>\n",
              "    <tr>\n",
              "      <th>Operating Income</th>\n",
              "      <td>483800</td>\n",
              "      <td>508000</td>\n",
              "      <td>-10500</td>\n",
              "      <td>1124700</td>\n",
              "    </tr>\n",
              "    <tr>\n",
              "      <th>Other Income Expense</th>\n",
              "      <td>896100</td>\n",
              "      <td>-784200</td>\n",
              "      <td>-111000</td>\n",
              "      <td>-10600</td>\n",
              "    </tr>\n",
              "    <tr>\n",
              "      <th>Pretax Income</th>\n",
              "      <td>1230500</td>\n",
              "      <td>-418600</td>\n",
              "      <td>-257700</td>\n",
              "      <td>1001900</td>\n",
              "    </tr>\n",
              "    <tr>\n",
              "      <th>Reconciled Cost of Revenue</th>\n",
              "      <td>1051100</td>\n",
              "      <td>1100200</td>\n",
              "      <td>1785300</td>\n",
              "      <td>1212600</td>\n",
              "    </tr>\n",
              "    <tr>\n",
              "      <th>Reconciled Depreciation</th>\n",
              "      <td>449200</td>\n",
              "      <td>480300</td>\n",
              "      <td>463100</td>\n",
              "      <td>376000</td>\n",
              "    </tr>\n",
              "    <tr>\n",
              "      <th>Tax Effect of Unusual Items</th>\n",
              "      <td>340915</td>\n",
              "      <td>-213786</td>\n",
              "      <td>-23961</td>\n",
              "      <td>-5319</td>\n",
              "    </tr>\n",
              "    <tr>\n",
              "      <th>Tax Provision</th>\n",
              "      <td>475000</td>\n",
              "      <td>-307300</td>\n",
              "      <td>-54100</td>\n",
              "      <td>-108600</td>\n",
              "    </tr>\n",
              "    <tr>\n",
              "      <th>Tax Rate for Calcs</th>\n",
              "      <td>0</td>\n",
              "      <td>0</td>\n",
              "      <td>0</td>\n",
              "      <td>0</td>\n",
              "    </tr>\n",
              "    <tr>\n",
              "      <th>Total Expenses</th>\n",
              "      <td>2575000</td>\n",
              "      <td>2709900</td>\n",
              "      <td>3377800</td>\n",
              "      <td>2651700</td>\n",
              "    </tr>\n",
              "    <tr>\n",
              "      <th>Total Operating Income as Reported</th>\n",
              "      <td>1370200</td>\n",
              "      <td>-237900</td>\n",
              "      <td>-123800</td>\n",
              "      <td>1105000</td>\n",
              "    </tr>\n",
              "    <tr>\n",
              "      <th>Total Revenue</th>\n",
              "      <td>3058800</td>\n",
              "      <td>3217900</td>\n",
              "      <td>3367300</td>\n",
              "      <td>3776400</td>\n",
              "    </tr>\n",
              "    <tr>\n",
              "      <th>Total Unusual Items</th>\n",
              "      <td>883200</td>\n",
              "      <td>-791800</td>\n",
              "      <td>-114100</td>\n",
              "      <td>-19700</td>\n",
              "    </tr>\n",
              "    <tr>\n",
              "      <th>Total Unusual Items Excluding Goodwill</th>\n",
              "      <td>883200</td>\n",
              "      <td>-791800</td>\n",
              "      <td>-114100</td>\n",
              "      <td>-19700</td>\n",
              "    </tr>\n",
              "  </tbody>\n",
              "</table>\n",
              "</div>"
            ],
            "text/plain": [
              "                                                   9/30/2017  ... 9/30/2020\n",
              "Basic Average Shares                                  279811  ...    262727\n",
              "Cost of Revenue                                      1437800  ...   1548900\n",
              "Diluted Average Shares                                285653  ...    264613\n",
              "Diluted NI Available to Com Stockholders              755500  ...   1115200\n",
              "EBIT                                                 1383700  ...   1118400\n",
              "Gross Profit                                         1621000  ...   2227500\n",
              "Interest Expense                                      153200  ...    116500\n",
              "Interest Income                                         3800  ...      4300\n",
              "Net Income Common Stockholders                        755500  ...   1115200\n",
              "Net Income from Continuing & Discontinued Opera...    755500  ...   1115200\n",
              "Net Income from Continuing Operation Net Minori...    755500  ...   1115200\n",
              "Net Interest Income                                  -149400  ...   -112200\n",
              "Net Non Operating Interest Income Expense            -149400  ...   -112200\n",
              "Normalized EBITDA                                     949700  ...   1514100\n",
              "Normalized Income                                     213215  ...   1129581\n",
              "Operating Expense                                    1137200  ...   1102800\n",
              "Operating Income                                      483800  ...   1124700\n",
              "Other Income Expense                                  896100  ...    -10600\n",
              "Pretax Income                                        1230500  ...   1001900\n",
              "Reconciled Cost of Revenue                           1051100  ...   1212600\n",
              "Reconciled Depreciation                               449200  ...    376000\n",
              "Tax Effect of Unusual Items                           340915  ...     -5319\n",
              "Tax Provision                                         475000  ...   -108600\n",
              "Tax Rate for Calcs                                         0  ...         0\n",
              "Total Expenses                                       2575000  ...   2651700\n",
              "Total Operating Income as Reported                   1370200  ...   1105000\n",
              "Total Revenue                                        3058800  ...   3776400\n",
              "Total Unusual Items                                   883200  ...    -19700\n",
              "Total Unusual Items Excluding Goodwill                883200  ...    -19700\n",
              "\n",
              "[29 rows x 4 columns]"
            ]
          },
          "metadata": {
            "tags": []
          },
          "execution_count": 6
        }
      ]
    },
    {
      "cell_type": "code",
      "metadata": {
        "colab": {
          "base_uri": "https://localhost:8080/",
          "height": 81
        },
        "id": "qkhC0uc8oAtv",
        "outputId": "c9eefed1-d6de-4afd-e24c-44650cd7919a"
      },
      "source": [
        "cash_flow_operations = cash_flow_df.loc['Operating Cash Flow'].astype(int) \n",
        "interest_expense = income_statement_df.loc['Interest Expense'].astype(int)\n",
        "tax_rate = income_statement_df.loc['Tax Provision'].astype(int) / income_statement_df.loc['Pretax Income'].astype(int)\n",
        "capex = cash_flow_df.loc['Capital Expenditure'].astype(int) \n",
        "\n",
        "fcff = (cash_flow_operations + (interest_expense * (1 - tax_rate)) - (abs(capex))).astype(int)\n",
        "fcff = fcff.to_frame().T\n",
        "fcff"
      ],
      "execution_count": 7,
      "outputs": [
        {
          "output_type": "execute_result",
          "data": {
            "text/html": [
              "<div>\n",
              "<style scoped>\n",
              "    .dataframe tbody tr th:only-of-type {\n",
              "        vertical-align: middle;\n",
              "    }\n",
              "\n",
              "    .dataframe tbody tr th {\n",
              "        vertical-align: top;\n",
              "    }\n",
              "\n",
              "    .dataframe thead th {\n",
              "        text-align: right;\n",
              "    }\n",
              "</style>\n",
              "<table border=\"1\" class=\"dataframe\">\n",
              "  <thead>\n",
              "    <tr style=\"text-align: right;\">\n",
              "      <th></th>\n",
              "      <th>9/30/2017</th>\n",
              "      <th>9/30/2018</th>\n",
              "      <th>9/30/2019</th>\n",
              "      <th>9/30/2020</th>\n",
              "    </tr>\n",
              "  </thead>\n",
              "  <tbody>\n",
              "    <tr>\n",
              "      <th>0</th>\n",
              "      <td>-5238</td>\n",
              "      <td>666837</td>\n",
              "      <td>647141</td>\n",
              "      <td>869327</td>\n",
              "    </tr>\n",
              "  </tbody>\n",
              "</table>\n",
              "</div>"
            ],
            "text/plain": [
              "   9/30/2017  9/30/2018  9/30/2019  9/30/2020\n",
              "0      -5238     666837     647141     869327"
            ]
          },
          "metadata": {
            "tags": []
          },
          "execution_count": 7
        }
      ]
    },
    {
      "cell_type": "markdown",
      "metadata": {
        "id": "uR0y0Uw9PcHW"
      },
      "source": [
        "### Forecast"
      ]
    },
    {
      "cell_type": "code",
      "metadata": {
        "colab": {
          "base_uri": "https://localhost:8080/"
        },
        "id": "tbO19tUrs9mt",
        "outputId": "1f217e39-8f6e-4e32-d895-34c0d91d651e"
      },
      "source": [
        "# FCFF CAGR\n",
        "latest_fcff = fcff.iloc[0,-1]\n",
        "earliest_fcff = fcff.iloc[0,1]\n",
        "fcff_CAGR = (latest_fcff / earliest_fcff) ** (float(1/(len(fcff.columns)-2)))-1\n",
        "fcff_CAGR"
      ],
      "execution_count": 8,
      "outputs": [
        {
          "output_type": "execute_result",
          "data": {
            "text/plain": [
              "0.14177818140404663"
            ]
          },
          "metadata": {
            "tags": []
          },
          "execution_count": 8
        }
      ]
    },
    {
      "cell_type": "code",
      "metadata": {
        "colab": {
          "base_uri": "https://localhost:8080/"
        },
        "id": "mv7QvSk_O75_",
        "outputId": "e0472ece-c860-4766-eba4-266f645d24d6"
      },
      "source": [
        "# Constant expected growth rate \n",
        "long_term_growth = fcff_CAGR / 5 # Conservative estimate close to GDP growth for long term perpetual growth \n",
        "long_term_growth"
      ],
      "execution_count": 10,
      "outputs": [
        {
          "output_type": "execute_result",
          "data": {
            "text/plain": [
              "0.028355636280809327"
            ]
          },
          "metadata": {
            "tags": []
          },
          "execution_count": 10
        }
      ]
    },
    {
      "cell_type": "code",
      "metadata": {
        "colab": {
          "base_uri": "https://localhost:8080/",
          "height": 81
        },
        "id": "zHYdX6WyuN21",
        "outputId": "9f700018-923c-42f2-ee3c-286cd537ef95"
      },
      "source": [
        "# Forecasted FCFF\n",
        "forecasted_fcff_df = pd.DataFrame(columns=['Year ' + str(i) for i in range(1,7)])\n",
        "fcff_forecast_lst = []\n",
        "for i in range(1,7):\n",
        "    if i != 6:\n",
        "        fcff_forecast = latest_fcff * (1+fcff_CAGR) ** i\n",
        "    else:\n",
        "        fcff_forecast = latest_fcff * (1+fcff_CAGR) ** (i-1) * (1+long_term_growth)\n",
        "    fcff_forecast_lst.append(int(fcff_forecast))\n",
        "forecasted_fcff_df.loc[0] = fcff_forecast_lst\n",
        "forecasted_fcff_df"
      ],
      "execution_count": 11,
      "outputs": [
        {
          "output_type": "execute_result",
          "data": {
            "text/html": [
              "<div>\n",
              "<style scoped>\n",
              "    .dataframe tbody tr th:only-of-type {\n",
              "        vertical-align: middle;\n",
              "    }\n",
              "\n",
              "    .dataframe tbody tr th {\n",
              "        vertical-align: top;\n",
              "    }\n",
              "\n",
              "    .dataframe thead th {\n",
              "        text-align: right;\n",
              "    }\n",
              "</style>\n",
              "<table border=\"1\" class=\"dataframe\">\n",
              "  <thead>\n",
              "    <tr style=\"text-align: right;\">\n",
              "      <th></th>\n",
              "      <th>Year 1</th>\n",
              "      <th>Year 2</th>\n",
              "      <th>Year 3</th>\n",
              "      <th>Year 4</th>\n",
              "      <th>Year 5</th>\n",
              "      <th>Year 6</th>\n",
              "    </tr>\n",
              "  </thead>\n",
              "  <tbody>\n",
              "    <tr>\n",
              "      <th>0</th>\n",
              "      <td>992578</td>\n",
              "      <td>1133304</td>\n",
              "      <td>1293982</td>\n",
              "      <td>1477440</td>\n",
              "      <td>1686909</td>\n",
              "      <td>1734743</td>\n",
              "    </tr>\n",
              "  </tbody>\n",
              "</table>\n",
              "</div>"
            ],
            "text/plain": [
              "   Year 1   Year 2   Year 3   Year 4   Year 5   Year 6\n",
              "0  992578  1133304  1293982  1477440  1686909  1734743"
            ]
          },
          "metadata": {
            "tags": []
          },
          "execution_count": 11
        }
      ]
    },
    {
      "cell_type": "markdown",
      "metadata": {
        "id": "uZbPM1C6CNBx"
      },
      "source": [
        "## 4. Weighted Average Cost of Capital (WACC)"
      ]
    },
    {
      "cell_type": "markdown",
      "metadata": {
        "id": "Shmlf1M3JF4x"
      },
      "source": [
        "### Required ROE\n",
        "\n",
        "To calclulate required return on equity, we'll apply CAPM:\n",
        "\n",
        "required ROE = risk-free rate + (levered beta x market risk premium)"
      ]
    },
    {
      "cell_type": "markdown",
      "metadata": {
        "id": "1zK4vTYq2-gG"
      },
      "source": [
        "#### Balance Sheet"
      ]
    },
    {
      "cell_type": "code",
      "metadata": {
        "colab": {
          "base_uri": "https://localhost:8080/",
          "height": 520
        },
        "id": "xStY17RGCOW8",
        "outputId": "cdc3c49d-54aa-4d17-db54-de8e03927d81"
      },
      "source": [
        "url = \"https://financial-statements.p.rapidapi.com/api/v1/resources/balance-sheet\"\n",
        "\n",
        "querystring = {\"ticker\": company_ticker}\n",
        "\n",
        "headers = {\n",
        "    'x-rapidapi-host': financial_statements_host,\n",
        "    'x-rapidapi-key': financial_statements_key\n",
        "    }\n",
        "\n",
        "balance_sheet_response = requests.request(\"GET\", url, headers=headers, params=querystring)\n",
        "\n",
        "# Create Balance Sheet DataFrame\n",
        "balance_sheet_df = pd.DataFrame.from_dict(balance_sheet_response.json())\n",
        "balance_sheet_df"
      ],
      "execution_count": 12,
      "outputs": [
        {
          "output_type": "execute_result",
          "data": {
            "text/html": [
              "<div>\n",
              "<style scoped>\n",
              "    .dataframe tbody tr th:only-of-type {\n",
              "        vertical-align: middle;\n",
              "    }\n",
              "\n",
              "    .dataframe tbody tr th {\n",
              "        vertical-align: top;\n",
              "    }\n",
              "\n",
              "    .dataframe thead th {\n",
              "        text-align: right;\n",
              "    }\n",
              "</style>\n",
              "<table border=\"1\" class=\"dataframe\">\n",
              "  <thead>\n",
              "    <tr style=\"text-align: right;\">\n",
              "      <th></th>\n",
              "      <th>9/30/2017</th>\n",
              "      <th>9/30/2018</th>\n",
              "      <th>9/30/2019</th>\n",
              "      <th>9/30/2020</th>\n",
              "    </tr>\n",
              "  </thead>\n",
              "  <tbody>\n",
              "    <tr>\n",
              "      <th>Capital Lease Obligations</th>\n",
              "      <td>58400</td>\n",
              "      <td>58100</td>\n",
              "      <td>54700</td>\n",
              "      <td>108400</td>\n",
              "    </tr>\n",
              "    <tr>\n",
              "      <th>Common Stock Equity</th>\n",
              "      <td>2784700</td>\n",
              "      <td>2428800</td>\n",
              "      <td>2115700</td>\n",
              "      <td>2705200</td>\n",
              "    </tr>\n",
              "    <tr>\n",
              "      <th>Invested Capital</th>\n",
              "      <td>6107600</td>\n",
              "      <td>5733100</td>\n",
              "      <td>5170700</td>\n",
              "      <td>5744000</td>\n",
              "    </tr>\n",
              "    <tr>\n",
              "      <th>Net Debt</th>\n",
              "      <td>2782300</td>\n",
              "      <td>2637600</td>\n",
              "      <td>2453200</td>\n",
              "      <td>2337800</td>\n",
              "    </tr>\n",
              "    <tr>\n",
              "      <th>Net Tangible Assets</th>\n",
              "      <td>-3140400</td>\n",
              "      <td>-2503000</td>\n",
              "      <td>-1907800</td>\n",
              "      <td>-1260200</td>\n",
              "    </tr>\n",
              "    <tr>\n",
              "      <th>Ordinary Shares Number</th>\n",
              "      <td>275293</td>\n",
              "      <td>270088</td>\n",
              "      <td>267685</td>\n",
              "      <td>257498</td>\n",
              "    </tr>\n",
              "    <tr>\n",
              "      <th>Share Issued</th>\n",
              "      <td>287853</td>\n",
              "      <td>289900</td>\n",
              "      <td>292323</td>\n",
              "      <td>295107</td>\n",
              "    </tr>\n",
              "    <tr>\n",
              "      <th>Tangible Book Value</th>\n",
              "      <td>-3140400</td>\n",
              "      <td>-2503000</td>\n",
              "      <td>-1907800</td>\n",
              "      <td>-1260200</td>\n",
              "    </tr>\n",
              "    <tr>\n",
              "      <th>Total Assets</th>\n",
              "      <td>7979600</td>\n",
              "      <td>7230900</td>\n",
              "      <td>6442100</td>\n",
              "      <td>7195800</td>\n",
              "    </tr>\n",
              "    <tr>\n",
              "      <th>Total Capitalization</th>\n",
              "      <td>4956800</td>\n",
              "      <td>5133400</td>\n",
              "      <td>4899300</td>\n",
              "      <td>5419100</td>\n",
              "    </tr>\n",
              "    <tr>\n",
              "      <th>Total Debt</th>\n",
              "      <td>3381300</td>\n",
              "      <td>3362400</td>\n",
              "      <td>3109700</td>\n",
              "      <td>3147200</td>\n",
              "    </tr>\n",
              "    <tr>\n",
              "      <th>Total Equity Gross Minority Interest</th>\n",
              "      <td>2784700</td>\n",
              "      <td>2428800</td>\n",
              "      <td>2115700</td>\n",
              "      <td>2707300</td>\n",
              "    </tr>\n",
              "    <tr>\n",
              "      <th>Total Liabilities Net Minority Interest</th>\n",
              "      <td>5194900</td>\n",
              "      <td>4802100</td>\n",
              "      <td>4326400</td>\n",
              "      <td>4488500</td>\n",
              "    </tr>\n",
              "    <tr>\n",
              "      <th>Treasury Shares Number</th>\n",
              "      <td>12560</td>\n",
              "      <td>19812</td>\n",
              "      <td>24638</td>\n",
              "      <td>37609</td>\n",
              "    </tr>\n",
              "    <tr>\n",
              "      <th>Working Capital</th>\n",
              "      <td>-386900</td>\n",
              "      <td>320600</td>\n",
              "      <td>723000</td>\n",
              "      <td>983000</td>\n",
              "    </tr>\n",
              "  </tbody>\n",
              "</table>\n",
              "</div>"
            ],
            "text/plain": [
              "                                        9/30/2017 9/30/2018 9/30/2019 9/30/2020\n",
              "Capital Lease Obligations                   58400     58100     54700    108400\n",
              "Common Stock Equity                       2784700   2428800   2115700   2705200\n",
              "Invested Capital                          6107600   5733100   5170700   5744000\n",
              "Net Debt                                  2782300   2637600   2453200   2337800\n",
              "Net Tangible Assets                      -3140400  -2503000  -1907800  -1260200\n",
              "Ordinary Shares Number                     275293    270088    267685    257498\n",
              "Share Issued                               287853    289900    292323    295107\n",
              "Tangible Book Value                      -3140400  -2503000  -1907800  -1260200\n",
              "Total Assets                              7979600   7230900   6442100   7195800\n",
              "Total Capitalization                      4956800   5133400   4899300   5419100\n",
              "Total Debt                                3381300   3362400   3109700   3147200\n",
              "Total Equity Gross Minority Interest      2784700   2428800   2115700   2707300\n",
              "Total Liabilities Net Minority Interest   5194900   4802100   4326400   4488500\n",
              "Treasury Shares Number                      12560     19812     24638     37609\n",
              "Working Capital                           -386900    320600    723000    983000"
            ]
          },
          "metadata": {
            "tags": []
          },
          "execution_count": 12
        }
      ]
    },
    {
      "cell_type": "markdown",
      "metadata": {
        "id": "B9iZQ4-j-PND"
      },
      "source": [
        "#### Risk-Free Rate"
      ]
    },
    {
      "cell_type": "code",
      "metadata": {
        "colab": {
          "base_uri": "https://localhost:8080/"
        },
        "id": "7RPAvKlc3KzR",
        "outputId": "409b8d81-4cf4-4100-d8fe-0a42e84c0d2e"
      },
      "source": [
        "# For risk free rate, we'll use the latest 10-year U.S. Treasury Yield '^TNX'\n",
        "risk_free_rate = (pdr.get_data_yahoo('^TNX')['Adj Close'].iloc[-1]) / 100\n",
        "risk_free_rate"
      ],
      "execution_count": 13,
      "outputs": [
        {
          "output_type": "execute_result",
          "data": {
            "text/plain": [
              "0.016790000200271608"
            ]
          },
          "metadata": {
            "tags": []
          },
          "execution_count": 13
        }
      ]
    },
    {
      "cell_type": "markdown",
      "metadata": {
        "id": "TCZMN6F5-Uge"
      },
      "source": [
        "#### Levered Beta"
      ]
    },
    {
      "cell_type": "markdown",
      "metadata": {
        "id": "eGE3qz5_-Xqo"
      },
      "source": [
        "##### Key Stats"
      ]
    },
    {
      "cell_type": "code",
      "metadata": {
        "colab": {
          "base_uri": "https://localhost:8080/",
          "height": 1000
        },
        "id": "HnMn2ssac0yS",
        "outputId": "c5c1c4ca-d458-4a82-b319-a5bbc8f73570"
      },
      "source": [
        "url = \"https://stock-analysis.p.rapidapi.com/api/v1/resources/key-stats\"\n",
        "\n",
        "querystring = {\"ticker\":company_ticker}\n",
        "\n",
        "headers = {\n",
        "    'x-rapidapi-host': stock_analysis_host,\n",
        "    'x-rapidapi-key': stock_analysis_key\n",
        "    }\n",
        "\n",
        "key_stats_response = requests.request(\"GET\", url, headers=headers, params=querystring)\n",
        "\n",
        "# Create Key Statistics DataFrame\n",
        "key_stats_df = pd.DataFrame.from_dict(key_stats_response.json())\n",
        "key_stats_df = key_stats_df.transpose()\n",
        "key_stats_df"
      ],
      "execution_count": 14,
      "outputs": [
        {
          "output_type": "execute_result",
          "data": {
            "text/html": [
              "<div>\n",
              "<style scoped>\n",
              "    .dataframe tbody tr th:only-of-type {\n",
              "        vertical-align: middle;\n",
              "    }\n",
              "\n",
              "    .dataframe tbody tr th {\n",
              "        vertical-align: top;\n",
              "    }\n",
              "\n",
              "    .dataframe thead th {\n",
              "        text-align: right;\n",
              "    }\n",
              "</style>\n",
              "<table border=\"1\" class=\"dataframe\">\n",
              "  <thead>\n",
              "    <tr style=\"text-align: right;\">\n",
              "      <th></th>\n",
              "      <th>Value</th>\n",
              "    </tr>\n",
              "  </thead>\n",
              "  <tbody>\n",
              "    <tr>\n",
              "      <th>% held by insiders</th>\n",
              "      <td>0.59%</td>\n",
              "    </tr>\n",
              "    <tr>\n",
              "      <th>% held by institutions</th>\n",
              "      <td>97.10%</td>\n",
              "    </tr>\n",
              "    <tr>\n",
              "      <th>200-day moving average</th>\n",
              "      <td>72.30</td>\n",
              "    </tr>\n",
              "    <tr>\n",
              "      <th>5-year average dividend yield</th>\n",
              "      <td>0</td>\n",
              "    </tr>\n",
              "    <tr>\n",
              "      <th>50-day moving average</th>\n",
              "      <td>74.06</td>\n",
              "    </tr>\n",
              "    <tr>\n",
              "      <th>52-week change</th>\n",
              "      <td>126.63%</td>\n",
              "    </tr>\n",
              "    <tr>\n",
              "      <th>52-week high</th>\n",
              "      <td>85.00</td>\n",
              "    </tr>\n",
              "    <tr>\n",
              "      <th>52-week low</th>\n",
              "      <td>32.55</td>\n",
              "    </tr>\n",
              "    <tr>\n",
              "      <th>Avg vol (10-day)</th>\n",
              "      <td>1.51M</td>\n",
              "    </tr>\n",
              "    <tr>\n",
              "      <th>Avg vol (3-month)</th>\n",
              "      <td>2.02M</td>\n",
              "    </tr>\n",
              "    <tr>\n",
              "      <th>Beta (5Y monthly)</th>\n",
              "      <td>1.20</td>\n",
              "    </tr>\n",
              "    <tr>\n",
              "      <th>Book value per share (mrq)</th>\n",
              "      <td>12.69</td>\n",
              "    </tr>\n",
              "    <tr>\n",
              "      <th>Current ratio (mrq)</th>\n",
              "      <td>2.46</td>\n",
              "    </tr>\n",
              "    <tr>\n",
              "      <th>Diluted EPS (ttm)</th>\n",
              "      <td>5.26</td>\n",
              "    </tr>\n",
              "    <tr>\n",
              "      <th>Dividend date</th>\n",
              "      <td>0</td>\n",
              "    </tr>\n",
              "    <tr>\n",
              "      <th>EBITDA</th>\n",
              "      <td>2.27B</td>\n",
              "    </tr>\n",
              "    <tr>\n",
              "      <th>Enterprise value</th>\n",
              "      <td>21.1B</td>\n",
              "    </tr>\n",
              "    <tr>\n",
              "      <th>Enterprise value/EBITDA</th>\n",
              "      <td>9.31</td>\n",
              "    </tr>\n",
              "    <tr>\n",
              "      <th>Enterprise value/revenue</th>\n",
              "      <td>4.65</td>\n",
              "    </tr>\n",
              "    <tr>\n",
              "      <th>Ex-dividend date</th>\n",
              "      <td>0</td>\n",
              "    </tr>\n",
              "    <tr>\n",
              "      <th>Fiscal year ends</th>\n",
              "      <td>25 Sep 2020</td>\n",
              "    </tr>\n",
              "    <tr>\n",
              "      <th>Float</th>\n",
              "      <td>256M</td>\n",
              "    </tr>\n",
              "    <tr>\n",
              "      <th>Forward P/E</th>\n",
              "      <td>14.90</td>\n",
              "    </tr>\n",
              "    <tr>\n",
              "      <th>Forward annual dividend rate</th>\n",
              "      <td>0</td>\n",
              "    </tr>\n",
              "    <tr>\n",
              "      <th>Forward annual dividend yield</th>\n",
              "      <td>0</td>\n",
              "    </tr>\n",
              "    <tr>\n",
              "      <th>Gross profit (ttm)</th>\n",
              "      <td>2.51B</td>\n",
              "    </tr>\n",
              "    <tr>\n",
              "      <th>Last split date</th>\n",
              "      <td>02 Apr 2008</td>\n",
              "    </tr>\n",
              "    <tr>\n",
              "      <th>Last split factor</th>\n",
              "      <td>2:1</td>\n",
              "    </tr>\n",
              "    <tr>\n",
              "      <th>Levered free cash flow (ttm)</th>\n",
              "      <td>1.19B</td>\n",
              "    </tr>\n",
              "    <tr>\n",
              "      <th>Market cap (intra-day)</th>\n",
              "      <td>19.15B</td>\n",
              "    </tr>\n",
              "    <tr>\n",
              "      <th>Most-recent quarter (mrq)</th>\n",
              "      <td>25 Dec 2020</td>\n",
              "    </tr>\n",
              "    <tr>\n",
              "      <th>Net income avi to common (ttm)</th>\n",
              "      <td>1.38B</td>\n",
              "    </tr>\n",
              "    <tr>\n",
              "      <th>Operating cash flow (ttm)</th>\n",
              "      <td>1.43B</td>\n",
              "    </tr>\n",
              "    <tr>\n",
              "      <th>Operating margin (ttm)</th>\n",
              "      <td>41.74%</td>\n",
              "    </tr>\n",
              "    <tr>\n",
              "      <th>PEG Ratio (5 yr expected)</th>\n",
              "      <td>0.78</td>\n",
              "    </tr>\n",
              "    <tr>\n",
              "      <th>Payout ratio</th>\n",
              "      <td>0.00%</td>\n",
              "    </tr>\n",
              "    <tr>\n",
              "      <th>Price/book (mrq)</th>\n",
              "      <td>5.86</td>\n",
              "    </tr>\n",
              "    <tr>\n",
              "      <th>Price/sales (ttm)</th>\n",
              "      <td>4.22</td>\n",
              "    </tr>\n",
              "    <tr>\n",
              "      <th>Profit margin</th>\n",
              "      <td>30.50%</td>\n",
              "    </tr>\n",
              "    <tr>\n",
              "      <th>Quarterly earnings growth (yoy)</th>\n",
              "      <td>69.50%</td>\n",
              "    </tr>\n",
              "    <tr>\n",
              "      <th>Quarterly revenue growth (yoy)</th>\n",
              "      <td>89.30%</td>\n",
              "    </tr>\n",
              "    <tr>\n",
              "      <th>Return on assets (ttm)</th>\n",
              "      <td>17.07%</td>\n",
              "    </tr>\n",
              "    <tr>\n",
              "      <th>Return on equity (ttm)</th>\n",
              "      <td>49.87%</td>\n",
              "    </tr>\n",
              "    <tr>\n",
              "      <th>Revenue (ttm)</th>\n",
              "      <td>4.54B</td>\n",
              "    </tr>\n",
              "    <tr>\n",
              "      <th>Revenue per share (ttm)</th>\n",
              "      <td>17.42</td>\n",
              "    </tr>\n",
              "    <tr>\n",
              "      <th>S&amp;P500 52-week change</th>\n",
              "      <td>59.64%</td>\n",
              "    </tr>\n",
              "    <tr>\n",
              "      <th>Shares outstanding</th>\n",
              "      <td>257.66M</td>\n",
              "    </tr>\n",
              "    <tr>\n",
              "      <th>Shares short (14 Mar 2021)</th>\n",
              "      <td>5.01M</td>\n",
              "    </tr>\n",
              "    <tr>\n",
              "      <th>Shares short (prior month 11 Feb 2021)</th>\n",
              "      <td>3.95M</td>\n",
              "    </tr>\n",
              "    <tr>\n",
              "      <th>Short % of float (14 Mar 2021)</th>\n",
              "      <td>3.21%</td>\n",
              "    </tr>\n",
              "    <tr>\n",
              "      <th>Short % of shares outstanding (14 Mar 2021)</th>\n",
              "      <td>1.94%</td>\n",
              "    </tr>\n",
              "    <tr>\n",
              "      <th>Short ratio (14 Mar 2021)</th>\n",
              "      <td>2.19</td>\n",
              "    </tr>\n",
              "    <tr>\n",
              "      <th>Total cash (mrq)</th>\n",
              "      <td>868.7M</td>\n",
              "    </tr>\n",
              "    <tr>\n",
              "      <th>Total cash per share (mrq)</th>\n",
              "      <td>3.37</td>\n",
              "    </tr>\n",
              "    <tr>\n",
              "      <th>Total debt (mrq)</th>\n",
              "      <td>2.81B</td>\n",
              "    </tr>\n",
              "    <tr>\n",
              "      <th>Total debt/equity (mrq)</th>\n",
              "      <td>86.08</td>\n",
              "    </tr>\n",
              "    <tr>\n",
              "      <th>Trailing P/E</th>\n",
              "      <td>14.12</td>\n",
              "    </tr>\n",
              "    <tr>\n",
              "      <th>Trailing annual dividend rate</th>\n",
              "      <td>0</td>\n",
              "    </tr>\n",
              "    <tr>\n",
              "      <th>Trailing annual dividend yield</th>\n",
              "      <td>0</td>\n",
              "    </tr>\n",
              "  </tbody>\n",
              "</table>\n",
              "</div>"
            ],
            "text/plain": [
              "                                                    Value\n",
              "% held by insiders                                  0.59%\n",
              "% held by institutions                             97.10%\n",
              "200-day moving average                              72.30\n",
              "5-year average dividend yield                           0\n",
              "50-day moving average                               74.06\n",
              "52-week change                                    126.63%\n",
              "52-week high                                        85.00\n",
              "52-week low                                         32.55\n",
              "Avg vol (10-day)                                    1.51M\n",
              "Avg vol (3-month)                                   2.02M\n",
              "Beta (5Y monthly)                                    1.20\n",
              "Book value per share (mrq)                          12.69\n",
              "Current ratio (mrq)                                  2.46\n",
              "Diluted EPS (ttm)                                    5.26\n",
              "Dividend date                                           0\n",
              "EBITDA                                              2.27B\n",
              "Enterprise value                                    21.1B\n",
              "Enterprise value/EBITDA                              9.31\n",
              "Enterprise value/revenue                             4.65\n",
              "Ex-dividend date                                        0\n",
              "Fiscal year ends                              25 Sep 2020\n",
              "Float                                                256M\n",
              "Forward P/E                                         14.90\n",
              "Forward annual dividend rate                            0\n",
              "Forward annual dividend yield                           0\n",
              "Gross profit (ttm)                                  2.51B\n",
              "Last split date                               02 Apr 2008\n",
              "Last split factor                                     2:1\n",
              "Levered free cash flow (ttm)                        1.19B\n",
              "Market cap (intra-day)                             19.15B\n",
              "Most-recent quarter (mrq)                     25 Dec 2020\n",
              "Net income avi to common (ttm)                      1.38B\n",
              "Operating cash flow (ttm)                           1.43B\n",
              "Operating margin (ttm)                             41.74%\n",
              "PEG Ratio (5 yr expected)                            0.78\n",
              "Payout ratio                                        0.00%\n",
              "Price/book (mrq)                                     5.86\n",
              "Price/sales (ttm)                                    4.22\n",
              "Profit margin                                      30.50%\n",
              "Quarterly earnings growth (yoy)                    69.50%\n",
              "Quarterly revenue growth (yoy)                     89.30%\n",
              "Return on assets (ttm)                             17.07%\n",
              "Return on equity (ttm)                             49.87%\n",
              "Revenue (ttm)                                       4.54B\n",
              "Revenue per share (ttm)                             17.42\n",
              "S&P500 52-week change                              59.64%\n",
              "Shares outstanding                                257.66M\n",
              "Shares short (14 Mar 2021)                          5.01M\n",
              "Shares short (prior month 11 Feb 2021)              3.95M\n",
              "Short % of float (14 Mar 2021)                      3.21%\n",
              "Short % of shares outstanding (14 Mar 2021)         1.94%\n",
              "Short ratio (14 Mar 2021)                            2.19\n",
              "Total cash (mrq)                                   868.7M\n",
              "Total cash per share (mrq)                           3.37\n",
              "Total debt (mrq)                                    2.81B\n",
              "Total debt/equity (mrq)                             86.08\n",
              "Trailing P/E                                        14.12\n",
              "Trailing annual dividend rate                           0\n",
              "Trailing annual dividend yield                          0"
            ]
          },
          "metadata": {
            "tags": []
          },
          "execution_count": 14
        }
      ]
    },
    {
      "cell_type": "code",
      "metadata": {
        "colab": {
          "base_uri": "https://localhost:8080/"
        },
        "id": "IrioYTn9dox6",
        "outputId": "b9a5e8a9-600b-41e4-b5c0-1bb0619aa55a"
      },
      "source": [
        "# Beta\n",
        "beta = float(key_stats_df.loc['Beta (5Y monthly)'])\n",
        "beta"
      ],
      "execution_count": 15,
      "outputs": [
        {
          "output_type": "execute_result",
          "data": {
            "text/plain": [
              "1.2"
            ]
          },
          "metadata": {
            "tags": []
          },
          "execution_count": 15
        }
      ]
    },
    {
      "cell_type": "code",
      "metadata": {
        "id": "WFm-N-G86B0_"
      },
      "source": [
        "# Total Debt\n",
        "total_debt = balance_sheet_df.loc['Total Debt']\n",
        "total_debt_df = total_debt.to_frame().transpose()\n",
        "total_debt_str = total_debt_df.values[0][-1:]\n",
        "total_debt_int = int(total_debt_str)"
      ],
      "execution_count": 16,
      "outputs": []
    },
    {
      "cell_type": "code",
      "metadata": {
        "colab": {
          "base_uri": "https://localhost:8080/"
        },
        "id": "0jQ5Shpr59VC",
        "outputId": "e1e9fb3e-7b6e-488b-98de-9f68a52c62a8"
      },
      "source": [
        "# Market Value of Equity\n",
        "market_cap_str = key_stats_df.loc[r'Market cap (intra-day) '][0]\n",
        "\n",
        "market_cap_lst = market_cap_str.split('.')\n",
        "if market_cap_str[len(market_cap_str)-1] == 'T':\n",
        "    market_cap_length = len(market_cap_lst[1])-1\n",
        "    market_cap_lst[1] = market_cap_lst[1].replace('T',(9-market_cap_length)*'0')\n",
        "    market_cap_int = int(''.join(market_cap_lst))\n",
        "if market_cap_str[len(market_cap_str)-1] == 'B':\n",
        "    market_cap_length = len(market_cap_lst[1])-1\n",
        "    market_cap_lst[1] = market_cap_lst[1].replace('B',(6-market_cap_length)*'0')\n",
        "    market_cap_int = int(''.join(market_cap_lst))\n",
        "\n",
        "market_cap_int"
      ],
      "execution_count": 17,
      "outputs": [
        {
          "output_type": "execute_result",
          "data": {
            "text/plain": [
              "19150000"
            ]
          },
          "metadata": {
            "tags": []
          },
          "execution_count": 17
        }
      ]
    },
    {
      "cell_type": "code",
      "metadata": {
        "colab": {
          "base_uri": "https://localhost:8080/"
        },
        "id": "AoXQ3OpTczkR",
        "outputId": "47c50183-0248-457b-b7ae-b78da898a65c"
      },
      "source": [
        "# Avg Tax Rate\n",
        "avg_tax_rate = sum(tax_rate) / len(tax_rate)\n",
        "avg_tax_rate"
      ],
      "execution_count": 18,
      "outputs": [
        {
          "output_type": "execute_result",
          "data": {
            "text/plain": [
              "0.30541890879797007"
            ]
          },
          "metadata": {
            "tags": []
          },
          "execution_count": 18
        }
      ]
    },
    {
      "cell_type": "code",
      "metadata": {
        "colab": {
          "base_uri": "https://localhost:8080/"
        },
        "id": "jL2do21foBX1",
        "outputId": "3a48f04a-1411-4907-cc3a-74380fd5ceba"
      },
      "source": [
        "# Levered beta \n",
        "levered_beta = beta * (1+(1-avg_tax_rate)*(total_debt_int / market_cap_int))\n",
        "levered_beta"
      ],
      "execution_count": 19,
      "outputs": [
        {
          "output_type": "execute_result",
          "data": {
            "text/plain": [
              "1.3369808215288372"
            ]
          },
          "metadata": {
            "tags": []
          },
          "execution_count": 19
        }
      ]
    },
    {
      "cell_type": "markdown",
      "metadata": {
        "id": "u1iRonO9-jl8"
      },
      "source": [
        "### Equity Risk Premium\n",
        "\n",
        "We'll use implied equity risk premium from professor [Aswath Damodaran](http://pages.stern.nyu.edu/~adamodar/) "
      ]
    },
    {
      "cell_type": "code",
      "metadata": {
        "id": "YoimXSwF3b5a"
      },
      "source": [
        "# Equity risk premium\n",
        "equity_risk_premium = 0.0463"
      ],
      "execution_count": 20,
      "outputs": []
    },
    {
      "cell_type": "markdown",
      "metadata": {
        "id": "At7wDSs6-oL-"
      },
      "source": [
        "### Required ROE"
      ]
    },
    {
      "cell_type": "code",
      "metadata": {
        "colab": {
          "base_uri": "https://localhost:8080/"
        },
        "id": "FJjLAO953kin",
        "outputId": "fb0fd13f-5555-47b7-e708-cb5655458ac3"
      },
      "source": [
        "# Required ROE\n",
        "required_roe = risk_free_rate + (levered_beta * equity_risk_premium)\n",
        "required_roe"
      ],
      "execution_count": 21,
      "outputs": [
        {
          "output_type": "execute_result",
          "data": {
            "text/plain": [
              "0.07869221223705677"
            ]
          },
          "metadata": {
            "tags": []
          },
          "execution_count": 21
        }
      ]
    },
    {
      "cell_type": "markdown",
      "metadata": {
        "id": "pM9Q22JZQPBl"
      },
      "source": [
        "### Required ROD"
      ]
    },
    {
      "cell_type": "code",
      "metadata": {
        "colab": {
          "base_uri": "https://localhost:8080/"
        },
        "id": "LcSLu8SwgUZB",
        "outputId": "2792279a-024d-466e-bd80-8b6033738b7a"
      },
      "source": [
        "# Interest Expense\n",
        "interest_expense = income_statement_df.loc['Interest Expense']\n",
        "interest_expense_df = interest_expense.to_frame().transpose()\n",
        "interest_expense_str = interest_expense_df.values[0][-1:]\n",
        "interest_expense_int = int(interest_expense_str)\n",
        "\n",
        "# Total debt above\n",
        "\n",
        "# Required Return on Debt\n",
        "required_return_debt = interest_expense_int / total_debt_int\n",
        "required_return_debt"
      ],
      "execution_count": 22,
      "outputs": [
        {
          "output_type": "execute_result",
          "data": {
            "text/plain": [
              "0.03701703101169293"
            ]
          },
          "metadata": {
            "tags": []
          },
          "execution_count": 22
        }
      ]
    },
    {
      "cell_type": "markdown",
      "metadata": {
        "id": "8qdv1bG75Pqs"
      },
      "source": [
        "### Capital Structure\n",
        "\n",
        "The final inputs for calculating WACC deal with the firm's capital structure, which is a company's mix of equity and debt. As previously noted, WACC is a blend of a company’s equity and debt cost of capital based on the company's equity and debt capital ratio."
      ]
    },
    {
      "cell_type": "markdown",
      "metadata": {
        "id": "lAqM5bZb528R"
      },
      "source": [
        "In most cases, you can use the book value of debt from a company’s latest balance sheet as an approximation for market value of debt. Unlike equity, the market value of debt usually does not deviate too far from the book value."
      ]
    },
    {
      "cell_type": "code",
      "metadata": {
        "colab": {
          "base_uri": "https://localhost:8080/"
        },
        "id": "SAyETKM151qB",
        "outputId": "f47907bd-acd3-411d-cb40-b4243d05df39"
      },
      "source": [
        "# Market Value of Debt\n",
        "net_debt = balance_sheet_df.loc['Net Debt']\n",
        "net_debt_df = net_debt.to_frame().T\n",
        "net_debt_str = net_debt_df.values[0][-1:]\n",
        "net_debt_int = int(net_debt_str)\n",
        "net_debt_int"
      ],
      "execution_count": 23,
      "outputs": [
        {
          "output_type": "execute_result",
          "data": {
            "text/plain": [
              "2337800"
            ]
          },
          "metadata": {
            "tags": []
          },
          "execution_count": 23
        }
      ]
    },
    {
      "cell_type": "code",
      "metadata": {
        "colab": {
          "base_uri": "https://localhost:8080/"
        },
        "id": "qOtkhYkF6CeM",
        "outputId": "5668e492-56a1-43dd-f285-3d0fe50203f1"
      },
      "source": [
        "# Company Value\n",
        "company_value = market_cap_int + net_debt_int\n",
        "company_value"
      ],
      "execution_count": 24,
      "outputs": [
        {
          "output_type": "execute_result",
          "data": {
            "text/plain": [
              "21487800"
            ]
          },
          "metadata": {
            "tags": []
          },
          "execution_count": 24
        }
      ]
    },
    {
      "cell_type": "markdown",
      "metadata": {
        "id": "mCo0216Q6L6Q"
      },
      "source": [
        "### Calculate WACC\n"
      ]
    },
    {
      "cell_type": "code",
      "metadata": {
        "colab": {
          "base_uri": "https://localhost:8080/"
        },
        "id": "PZk3x_fh6RLV",
        "outputId": "2fb4b23b-2424-4d2e-a326-f9a6789a3890"
      },
      "source": [
        "# https://www.investopedia.com/ask/answers/063014/what-formula-calculating-weighted-average-cost-capital-wacc.asp\n",
        "WACC = ((market_cap_int / company_value) * required_roe) + ((net_debt_int / company_value) * (required_return_debt * (1 - avg_tax_rate)))\n",
        "WACC"
      ],
      "execution_count": 25,
      "outputs": [
        {
          "output_type": "execute_result",
          "data": {
            "text/plain": [
              "0.07292807133024737"
            ]
          },
          "metadata": {
            "tags": []
          },
          "execution_count": 25
        }
      ]
    },
    {
      "cell_type": "markdown",
      "metadata": {
        "id": "JggHSs9e6ywZ"
      },
      "source": [
        "## 5. Valuation\n",
        "We need to discount all the forecasted cash flows to get the Firm Value. First, discount the forecasted FCFF for each of the next five years (Stage 1). Then, the present value of the terminal value of the firm using the forecasted FCFF in Year 6 is added to this amount (Stage 2)."
      ]
    },
    {
      "cell_type": "code",
      "metadata": {
        "colab": {
          "base_uri": "https://localhost:8080/"
        },
        "id": "9XfjLJ3J6yP9",
        "outputId": "485f0c14-4b3c-494a-9158-e5e9af73a537"
      },
      "source": [
        "# Equity Value Calculation\n",
        "discounted_fcff_lst = []\n",
        "for year in range(0,5):\n",
        "    discounted_fcff = forecasted_fcff_df.iloc[0, year] / (1 + WACC) ** (year+1)\n",
        "    discounted_fcff_lst.append(int(discounted_fcff))\n",
        "\n",
        "terminal_value = forecasted_fcff_df.iloc[0,5] / (WACC-long_term_growth)\n",
        "PV_terminal_value = int(terminal_value / (1+WACC) **5)\n",
        "enterprise_value = sum(discounted_fcff_lst) + PV_terminal_value\n",
        "equity_value = enterprise_value - net_debt_int\n",
        "equity_value"
      ],
      "execution_count": 26,
      "outputs": [
        {
          "output_type": "execute_result",
          "data": {
            "text/plain": [
              "30293315"
            ]
          },
          "metadata": {
            "tags": []
          },
          "execution_count": 26
        }
      ]
    },
    {
      "cell_type": "code",
      "metadata": {
        "colab": {
          "base_uri": "https://localhost:8080/"
        },
        "id": "rMeKtbs46qjV",
        "outputId": "9ae6bf1d-02a1-4f25-936e-2d82b81b7835"
      },
      "source": [
        "# Total Shares Outstanding\n",
        "shares_outstanding_str = key_stats_df.loc['Shares outstanding '][0]\n",
        "\n",
        "shares_outstanding_lst = shares_outstanding_str.split('.')\n",
        "if shares_outstanding_str[len(shares_outstanding_str)-1] == 'B':\n",
        "    shares_outstanding_length = len(shares_outstanding_lst[1])-1\n",
        "    shares_outstanding_lst[1] = shares_outstanding_lst[1].replace('B',(6-shares_outstanding_length)*'0')\n",
        "    shares_outstanding_int = int(''.join(shares_outstanding_lst))\n",
        "if shares_outstanding_str[len(shares_outstanding_str)-1] == 'M':\n",
        "    shares_outstanding_length = len(shares_outstanding_lst[1])-1\n",
        "    shares_outstanding_lst[1] = shares_outstanding_lst[1].replace('M',(3-shares_outstanding_length)*'0')\n",
        "    shares_outstanding_int = int(''.join(shares_outstanding_lst))\n",
        "\n",
        "shares_outstanding_int"
      ],
      "execution_count": 27,
      "outputs": [
        {
          "output_type": "execute_result",
          "data": {
            "text/plain": [
              "257660"
            ]
          },
          "metadata": {
            "tags": []
          },
          "execution_count": 27
        }
      ]
    },
    {
      "cell_type": "code",
      "metadata": {
        "colab": {
          "base_uri": "https://localhost:8080/"
        },
        "id": "vWCWq1zn9hHh",
        "outputId": "c2812a50-deba-479b-bf48-2d75fd0e13a9"
      },
      "source": [
        "# Two-stage FCFF Valuation Model Stock Price Estimate\n",
        "stock_price = equity_value / shares_outstanding_int\n",
        "stock_price = '${:,.2f}'.format(stock_price)\n",
        "print(\"Model Stock Price = %s\"%(stock_price))\n",
        "\n",
        "# Actual Stock Price\n",
        "actual_stock_price = market_cap_int / shares_outstanding_int\n",
        "actual_stock_price = '${:,.2f}'.format(actual_stock_price)\n",
        "print(\"Actual Stock Price = %s\"%(actual_stock_price))"
      ],
      "execution_count": 28,
      "outputs": [
        {
          "output_type": "stream",
          "text": [
            "Model Stock Price = $117.57\n",
            "Actual Stock Price = $74.32\n"
          ],
          "name": "stdout"
        }
      ]
    },
    {
      "cell_type": "markdown",
      "metadata": {
        "id": "b5zioz14V3j3"
      },
      "source": [
        "## 6. References\n",
        "\n",
        "https://github.com/AlphaWaveData/Jupyter-Notebooks/blob/master/AlphaWave%20Stock%20Valuation%20using%20Free%20Cash%20Flow%20to%20the%20Firm%20example.ipynb\n",
        "\n",
        "https://investors.hologic.com/financials/financial-reports/default.aspx\n",
        "\n",
        "https://www.investopedia.com/terms/f/freecashflowfirm.asp\n",
        "\n",
        "https://www.investopedia.com/ask/answers/063014/what-formula-calculating-weighted-average-cost-capital-wacc.asp\n",
        "\n",
        "https://simplywall.st/stocks/us/healthcare/nasdaq-holx/hologic/news/does-this-valuation-of-hologic-inc-nasdaqholx-imply-investors-are-overpaying\n",
        "\n",
        "https://finance.yahoo.com/news/value-investors-buy-hologic-holx-165004814.html\n",
        "\n",
        "http://pages.stern.nyu.edu/~adamodar/\n",
        "\n",
        "\n",
        "\n"
      ]
    }
  ]
}